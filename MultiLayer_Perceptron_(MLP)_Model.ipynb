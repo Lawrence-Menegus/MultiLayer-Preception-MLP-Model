{
  "cells": [
    {
      "cell_type": "markdown",
      "id": "7f8cf0e0",
      "metadata": {
        "id": "7f8cf0e0"
      },
      "source": [
        "# MLP Model for Flower Classification\n",
        "I built a MultiLayer Perceptron (MLP) model using Tensorflow Keras to classify images of flowers. I will utilize data augmentation and ImageDataGenerator to preprocess the images, followed by training a MLP model."
      ]
    },
    {
      "cell_type": "markdown",
      "id": "86797be0",
      "metadata": {
        "id": "86797be0"
      },
      "source": [
        "## To Run in Google Colab"
      ]
    },
    {
      "cell_type": "code",
      "execution_count": 1,
      "id": "5ba23279",
      "metadata": {
        "colab": {
          "base_uri": "https://localhost:8080/"
        },
        "id": "5ba23279",
        "outputId": "54d6dc6b-52e6-45e7-a025-dcd08a48b36d"
      },
      "outputs": [
        {
          "output_type": "stream",
          "name": "stdout",
          "text": [
            "Mounted at /content/drive\n",
            " CNN_AutoEncoder.ipynb\t        flowers.zip\t\t\t\t    WGAN.ipynb\n",
            " CNNS_Transfer_Learning.ipynb  'MultiLayer_Perceptron_(MLP) -Model.ipynb'\n",
            " Custom_MLP_Model.ipynb         VAE.ipynb\n",
            "Dataset unzipped successfully!\n",
            " CNN_AutoEncoder.ipynb\t        flowers_train_validation\t\t    VAE.ipynb\n",
            " CNNS_Transfer_Learning.ipynb   flowers.zip\t\t\t\t    WGAN.ipynb\n",
            " Custom_MLP_Model.ipynb        'MultiLayer_Perceptron_(MLP) -Model.ipynb'\n"
          ]
        }
      ],
      "source": [
        "import zipfile\n",
        "import os\n",
        "\n",
        "from google.colab import drive\n",
        "drive.mount('/content/drive')\n",
        "\n",
        "# List MyDrive before t\n",
        "!ls /content/drive/MyDrive/\n",
        "\n",
        "\n",
        "\n",
        "# Open dataset from zipfile\n",
        "zip_path = \"/content/drive/MyDrive/flowers.zip\"\n",
        "extract_path = '/content/drive/MyDrive/'\n",
        "\n",
        "os.makedirs(extract_path, exist_ok=True)\n",
        "\n",
        "with zipfile.ZipFile(zip_path, 'r') as zip_ref:\n",
        "    zip_ref.extractall(extract_path)\n",
        "\n",
        "print(\"Dataset unzipped successfully!\")\n",
        "\n",
        "\n",
        "\n",
        "# lists all files in Google Drive\n",
        "!ls /content/drive/MyDrive/"
      ]
    },
    {
      "cell_type": "markdown",
      "id": "6bc4717d",
      "metadata": {
        "id": "6bc4717d"
      },
      "source": [
        "## Run on Local Machine"
      ]
    },
    {
      "cell_type": "code",
      "execution_count": 2,
      "id": "ab540565",
      "metadata": {
        "colab": {
          "base_uri": "https://localhost:8080/",
          "height": 122
        },
        "id": "ab540565",
        "outputId": "32616598-d5a8-4f12-e84b-2cbe6f0ed2d5"
      },
      "outputs": [
        {
          "output_type": "execute_result",
          "data": {
            "text/plain": [
              "'\\n\\nimport os\\nimport zipfile\\n\\n# Define the paths for the zip file and extraction directory\\nzip_path = r\"C:\\\\path\\to\\\\your\\x0clowers.zip\"  # Update this to your zip file\\'s actual path\\nextract_path = r\"C:\\\\path\\to\\\\extract\\\\directory\"  # Update this to your desired extraction directory\\n\\n# Ensure the extraction path exists\\nos.makedirs(extract_path, exist_ok=True)\\n\\n# Extract the zip file\\ntry:\\n    with zipfile.ZipFile(zip_path, \\'r\\') as zip_ref:\\n        zip_ref.extractall(extract_path)\\n    print(\"Dataset unzipped successfully!\")\\nexcept FileNotFoundError:\\n    print(f\"Error: The file {zip_path} does not exist.\")\\nexcept zipfile.BadZipFile:\\n    print(f\"Error: The file {zip_path} is not a valid zip file.\")\\n\\n'"
            ],
            "application/vnd.google.colaboratory.intrinsic+json": {
              "type": "string"
            }
          },
          "metadata": {},
          "execution_count": 2
        }
      ],
      "source": [
        "'''\n",
        "\n",
        "import os\n",
        "import zipfile\n",
        "\n",
        "# Define the paths for the zip file and extraction directory\n",
        "zip_path = r\"C:\\path\\to\\your\\flowers.zip\"  # Update this to your zip file's actual path\n",
        "extract_path = r\"C:\\path\\to\\extract\\directory\"  # Update this to your desired extraction directory\n",
        "\n",
        "# Ensure the extraction path exists\n",
        "os.makedirs(extract_path, exist_ok=True)\n",
        "\n",
        "# Extract the zip file\n",
        "try:\n",
        "    with zipfile.ZipFile(zip_path, 'r') as zip_ref:\n",
        "        zip_ref.extractall(extract_path)\n",
        "    print(\"Dataset unzipped successfully!\")\n",
        "except FileNotFoundError:\n",
        "    print(f\"Error: The file {zip_path} does not exist.\")\n",
        "except zipfile.BadZipFile:\n",
        "    print(f\"Error: The file {zip_path} is not a valid zip file.\")\n",
        "\n",
        "'''\n"
      ]
    },
    {
      "cell_type": "markdown",
      "id": "678995bb",
      "metadata": {
        "id": "678995bb"
      },
      "source": [
        "Paths for"
      ]
    },
    {
      "cell_type": "code",
      "execution_count": 3,
      "id": "b9e35f3c",
      "metadata": {
        "id": "b9e35f3c"
      },
      "outputs": [],
      "source": [
        "# Google CoLab\n",
        "Train = '/content/drive/MyDrive/flowers_train_validation/train'\n",
        "Validation = '/content/drive/MyDrive/flowers_train_validation/validation'\n",
        "\n",
        "# Local Machine\n",
        "#Train = 'C:/path to local drive for extracted files /flowers_train_validation/train'\n",
        "#Validation = 'C:/path to local drive for extracted files /flowers_train_validation/validation'"
      ]
    },
    {
      "cell_type": "code",
      "execution_count": 4,
      "id": "0aa8c293-be0d-45ef-a616-10e1a98462a0",
      "metadata": {
        "id": "0aa8c293-be0d-45ef-a616-10e1a98462a0"
      },
      "outputs": [],
      "source": [
        "# Import TensorFlow and Keras\n",
        "import tensorflow as tf\n",
        "from tensorflow.keras.preprocessing.image import ImageDataGenerator\n",
        "import matplotlib.pyplot as plt\n",
        "import numpy as np"
      ]
    },
    {
      "cell_type": "markdown",
      "id": "22f26463",
      "metadata": {
        "id": "22f26463"
      },
      "source": [
        "## 1: Data Preparation and Augmentation"
      ]
    },
    {
      "cell_type": "markdown",
      "id": "388ed750-1d43-4f38-a430-dd1aebb6d77e",
      "metadata": {
        "id": "388ed750-1d43-4f38-a430-dd1aebb6d77e"
      },
      "source": [
        "### 1.1 Train Data Generator"
      ]
    },
    {
      "cell_type": "code",
      "execution_count": 5,
      "id": "eab76c9f-0612-4757-8929-7dde9e7d1683",
      "metadata": {
        "id": "eab76c9f-0612-4757-8929-7dde9e7d1683"
      },
      "outputs": [],
      "source": [
        "# Create ImageDataGenerators for training data\n",
        "train_datagen = ImageDataGenerator(rescale=1./255,\n",
        "                                    rotation_range=20,\n",
        "                                    width_shift_range=0.2,\n",
        "                                    height_shift_range=0.2,\n",
        "                                    shear_range=0.2,\n",
        "                                    zoom_range=0.2,\n",
        "                                    horizontal_flip=True,\n",
        "                                    fill_mode='nearest')"
      ]
    },
    {
      "cell_type": "code",
      "execution_count": 6,
      "id": "a3889f7d-cd9c-42a6-b044-ca092d76d18b",
      "metadata": {
        "colab": {
          "base_uri": "https://localhost:8080/"
        },
        "id": "a3889f7d-cd9c-42a6-b044-ca092d76d18b",
        "outputId": "79f68a1a-be1d-402f-e7fe-e14c4d2aee55"
      },
      "outputs": [
        {
          "output_type": "stream",
          "name": "stdout",
          "text": [
            "Found 3458 images belonging to 5 classes.\n"
          ]
        }
      ],
      "source": [
        "train_generator = train_datagen.flow_from_directory(\n",
        "    Train,  # This is the target directory\n",
        "    target_size=(150, 150),  # All images will be resized to 150x150\n",
        "    batch_size=128,\n",
        "    class_mode='categorical'\n",
        ")"
      ]
    },
    {
      "cell_type": "code",
      "execution_count": 7,
      "id": "0dba2929-dbc4-4049-adcc-3a78c0c0f5f1",
      "metadata": {
        "colab": {
          "base_uri": "https://localhost:8080/"
        },
        "id": "0dba2929-dbc4-4049-adcc-3a78c0c0f5f1",
        "outputId": "abf8d5fe-be1f-4618-c2e2-9d2fc305de38"
      },
      "outputs": [
        {
          "output_type": "stream",
          "name": "stdout",
          "text": [
            "Number of samples: 3458\n",
            "Class indices: {'daisy': 0, 'dandelion': 1, 'rose': 2, 'sunflower': 3, 'tulip': 4}\n",
            "Batch size: 128\n",
            "Image shape: (150, 150, 3)\n",
            "Number of classes: 5\n",
            "Target size: (150, 150)\n",
            "Filenames: ['daisy/daisy_000002.png', 'daisy/daisy_000004.png', 'daisy/daisy_000007.png', 'daisy/daisy_000008.png', 'daisy/daisy_000009.png']\n"
          ]
        }
      ],
      "source": [
        "# displaying the basic information of train generator\n",
        "print(f\"Number of samples: {train_generator.samples}\")\n",
        "print(f\"Class indices: {train_generator.class_indices}\")\n",
        "print(f\"Batch size: {train_generator.batch_size}\")\n",
        "print(f\"Image shape: {train_generator.image_shape}\")\n",
        "print(f\"Number of classes: {train_generator.num_classes}\")\n",
        "print(f\"Target size: {train_generator.target_size}\")\n",
        "print(f\"Filenames: {train_generator.filenames[:5]}\")"
      ]
    },
    {
      "cell_type": "markdown",
      "id": "c0c9f763-baca-4751-8a0b-663125dfb0e1",
      "metadata": {
        "id": "c0c9f763-baca-4751-8a0b-663125dfb0e1"
      },
      "source": [
        "### 1.2 Validation Data Generator"
      ]
    },
    {
      "cell_type": "code",
      "execution_count": 8,
      "id": "0a086af5-fe86-4826-83af-e35004014871",
      "metadata": {
        "colab": {
          "base_uri": "https://localhost:8080/"
        },
        "id": "0a086af5-fe86-4826-83af-e35004014871",
        "outputId": "1f93fd4e-0d75-45ee-cf4a-c0e5ed0e1ca6"
      },
      "outputs": [
        {
          "output_type": "stream",
          "name": "stdout",
          "text": [
            "Found 865 images belonging to 5 classes.\n"
          ]
        }
      ],
      "source": [
        "valid_datagen=ImageDataGenerator(rescale=1./255)\n",
        "valid_generator = valid_datagen.flow_from_directory(\n",
        "    Validation,  # This is the target directory\n",
        "    target_size=(150, 150),\n",
        "    batch_size=128,\n",
        "    class_mode='categorical')"
      ]
    },
    {
      "cell_type": "code",
      "execution_count": 9,
      "id": "c637fe61-ffa7-4791-9374-0b529d17747d",
      "metadata": {
        "colab": {
          "base_uri": "https://localhost:8080/"
        },
        "id": "c637fe61-ffa7-4791-9374-0b529d17747d",
        "outputId": "ff4635ce-580a-4e56-de86-88ee30a8a2cb"
      },
      "outputs": [
        {
          "output_type": "stream",
          "name": "stdout",
          "text": [
            "Number of samples: 865\n",
            "Class indices: {'daisy': 0, 'dandelion': 1, 'rose': 2, 'sunflower': 3, 'tulip': 4}\n",
            "Batch size: 128\n",
            "Image shape: (150, 150, 3)\n",
            "Number of classes: 5\n",
            "Target size: (150, 150)\n",
            "Filenames: ['daisy/daisy_000001.png', 'daisy/daisy_000003.png', 'daisy/daisy_000005.png', 'daisy/daisy_000006.png', 'daisy/daisy_000012.png']\n"
          ]
        }
      ],
      "source": [
        "# display the basic information of validation generator\n",
        "\n",
        "print(f\"Number of samples: {valid_generator.samples}\")\n",
        "print(f\"Class indices: {valid_generator.class_indices}\")\n",
        "print(f\"Batch size: {valid_generator.batch_size}\")\n",
        "print(f\"Image shape: {valid_generator.image_shape}\")\n",
        "print(f\"Number of classes: {valid_generator.num_classes}\")\n",
        "print(f\"Target size: {valid_generator.target_size}\")\n",
        "print(f\"Filenames: {valid_generator.filenames[:5]}\")"
      ]
    },
    {
      "cell_type": "markdown",
      "id": "f0af0bf1-1436-40b8-9500-5fa28c724fbe",
      "metadata": {
        "id": "f0af0bf1-1436-40b8-9500-5fa28c724fbe"
      },
      "source": [
        "### 2: Display flower dataset from train/validation generator"
      ]
    },
    {
      "cell_type": "code",
      "execution_count": 10,
      "id": "a1a6b186-9d18-4ca7-a652-46969371becc",
      "metadata": {
        "colab": {
          "base_uri": "https://localhost:8080/"
        },
        "id": "a1a6b186-9d18-4ca7-a652-46969371becc",
        "outputId": "b07d0e3e-e2b3-4be2-9138-c545e9fd5a69"
      },
      "outputs": [
        {
          "output_type": "stream",
          "name": "stdout",
          "text": [
            "<class 'keras.src.preprocessing.image.DirectoryIterator'>\n"
          ]
        }
      ],
      "source": [
        "print(type(train_generator))"
      ]
    },
    {
      "cell_type": "code",
      "execution_count": 11,
      "id": "c3f70e12-85d8-4270-9e73-0b4075c6a83b",
      "metadata": {
        "colab": {
          "base_uri": "https://localhost:8080/"
        },
        "id": "c3f70e12-85d8-4270-9e73-0b4075c6a83b",
        "outputId": "2e66c6db-da1e-4e6e-ab6a-9642cb4ec710"
      },
      "outputs": [
        {
          "output_type": "stream",
          "name": "stdout",
          "text": [
            "(128, 150, 150, 3) (128, 5)\n",
            "First image shape: (150, 150, 3)\n",
            "First label: [0. 0. 0. 1. 0.]\n"
          ]
        }
      ],
      "source": [
        "# Get a batch of images and labels\n",
        "batch = next(train_generator)\n",
        "\n",
        "batch_images, batch_labels = batch[0], batch[1]\n",
        "print(batch_images.shape, batch_labels.shape)\n",
        "\n",
        "# Get the first image and label from the batch\n",
        "first_image = batch_images[0]  # First image\n",
        "first_label = batch_labels[0]  # First label\n",
        "\n",
        "# Print shape and label to verify\n",
        "print(f\"First image shape: {first_image.shape}\")\n",
        "print(f\"First label: {first_label}\")"
      ]
    },
    {
      "cell_type": "markdown",
      "id": "8b0c2bde-62fa-477a-a378-56517c591757",
      "metadata": {
        "id": "8b0c2bde-62fa-477a-a378-56517c591757"
      },
      "source": [
        "#### Display the flowers\n",
        "The first 10 images from the batch of train generator\n",
        "\n"
      ]
    },
    {
      "cell_type": "code",
      "execution_count": 12,
      "id": "b6ededb5-a502-439c-987d-a521140e67f5",
      "metadata": {
        "colab": {
          "base_uri": "https://localhost:8080/",
          "height": 1000
        },
        "id": "b6ededb5-a502-439c-987d-a521140e67f5",
        "outputId": "e653e809-78a4-4b08-d88f-1cf9d2e52e79"
      },
      "outputs": [
        {
          "output_type": "display_data",
          "data": {
            "text/plain": [
              "array([[[[0.9355457 , 0.46248946, 0.23786886],\n",
              "         [0.9787093 , 0.60005975, 0.18190163],\n",
              "         [0.97508717, 0.6248396 , 0.0990831 ],\n",
              "         ...,\n",
              "         [0.31054452, 0.2565514 , 0.14737017],\n",
              "         [0.2656684 , 0.22449702, 0.17942457],\n",
              "         [0.27512267, 0.24948959, 0.23049462]],\n",
              "\n",
              "        [[0.92695975, 0.3705001 , 0.11258167],\n",
              "         [0.93878454, 0.5393944 , 0.1475127 ],\n",
              "         [0.9917316 , 0.647733  , 0.1925099 ],\n",
              "         ...,\n",
              "         [0.293773  , 0.24457175, 0.15934984],\n",
              "         [0.26307786, 0.2274074 , 0.19636758],\n",
              "         [0.2823105 , 0.26266724, 0.25086007]],\n",
              "\n",
              "        [[0.88719517, 0.342162  , 0.09113666],\n",
              "         [0.9182145 , 0.45627233, 0.10521153],\n",
              "         [0.96925455, 0.6102882 , 0.14926828],\n",
              "         ...,\n",
              "         [0.27700147, 0.23259208, 0.17132953],\n",
              "         [0.27026567, 0.24058504, 0.21673304],\n",
              "         [0.27997118, 0.26036334, 0.24740773]],\n",
              "\n",
              "        ...,\n",
              "\n",
              "        [[0.18431373, 0.3324258 , 0.11764707],\n",
              "         [0.1892176 , 0.32450795, 0.11519513],\n",
              "         [0.20777908, 0.35975626, 0.15885629],\n",
              "         ...,\n",
              "         [0.11497428, 0.20954111, 0.09144486],\n",
              "         [0.11710721, 0.2191393 , 0.09357779],\n",
              "         [0.11924014, 0.22873747, 0.09571073]],\n",
              "\n",
              "        [[0.18520264, 0.3285229 , 0.11720261],\n",
              "         [0.19161353, 0.32211196, 0.11399717],\n",
              "         [0.21856077, 0.38611153, 0.19000344],\n",
              "         ...,\n",
              "         [0.12264191, 0.1979773 , 0.12883385],\n",
              "         [0.11944251, 0.20011023, 0.11496979],\n",
              "         [0.11624311, 0.20224318, 0.10110574]],\n",
              "\n",
              "        [[0.18759859, 0.32612693, 0.11600465],\n",
              "         [0.20049353, 0.34194714, 0.13780916],\n",
              "         [0.22787133, 0.40532118, 0.21022198],\n",
              "         ...,\n",
              "         [0.1254902 , 0.211961  , 0.05646951],\n",
              "         [0.1254902 , 0.20556222, 0.0905964 ],\n",
              "         [0.1254902 , 0.1991634 , 0.12472329]]],\n",
              "\n",
              "\n",
              "       [[[0.01568628, 0.        , 0.        ],\n",
              "         [0.01568628, 0.        , 0.        ],\n",
              "         [0.01568628, 0.        , 0.        ],\n",
              "         ...,\n",
              "         [0.00392157, 0.00392157, 0.00392157],\n",
              "         [0.00392157, 0.00392157, 0.00392157],\n",
              "         [0.00392157, 0.00392157, 0.00392157]],\n",
              "\n",
              "        [[0.01568628, 0.        , 0.        ],\n",
              "         [0.01568628, 0.        , 0.        ],\n",
              "         [0.01568628, 0.        , 0.        ],\n",
              "         ...,\n",
              "         [0.00392157, 0.00392157, 0.00392157],\n",
              "         [0.00392157, 0.00392157, 0.00392157],\n",
              "         [0.00392157, 0.00392157, 0.00392157]],\n",
              "\n",
              "        [[0.01568628, 0.        , 0.        ],\n",
              "         [0.01568628, 0.        , 0.        ],\n",
              "         [0.01568628, 0.        , 0.        ],\n",
              "         ...,\n",
              "         [0.00392157, 0.00392157, 0.00392157],\n",
              "         [0.00392157, 0.00392157, 0.00392157],\n",
              "         [0.00392157, 0.00392157, 0.00392157]],\n",
              "\n",
              "        ...,\n",
              "\n",
              "        [[0.        , 0.        , 0.        ],\n",
              "         [0.        , 0.        , 0.        ],\n",
              "         [0.        , 0.        , 0.        ],\n",
              "         ...,\n",
              "         [0.        , 0.        , 0.        ],\n",
              "         [0.        , 0.        , 0.        ],\n",
              "         [0.        , 0.        , 0.        ]],\n",
              "\n",
              "        [[0.        , 0.        , 0.        ],\n",
              "         [0.        , 0.        , 0.        ],\n",
              "         [0.        , 0.        , 0.        ],\n",
              "         ...,\n",
              "         [0.        , 0.        , 0.        ],\n",
              "         [0.        , 0.        , 0.        ],\n",
              "         [0.        , 0.        , 0.        ]],\n",
              "\n",
              "        [[0.        , 0.        , 0.        ],\n",
              "         [0.        , 0.        , 0.        ],\n",
              "         [0.        , 0.        , 0.        ],\n",
              "         ...,\n",
              "         [0.        , 0.        , 0.        ],\n",
              "         [0.        , 0.        , 0.        ],\n",
              "         [0.        , 0.        , 0.        ]]],\n",
              "\n",
              "\n",
              "       [[[0.95618355, 0.93179387, 0.90397036],\n",
              "         [0.9133784 , 0.8803936 , 0.8465673 ],\n",
              "         [0.9037479 , 0.8601778 , 0.8378837 ],\n",
              "         ...,\n",
              "         [0.9873032 , 0.9873032 , 0.9932821 ],\n",
              "         [0.98658144, 0.98658144, 0.99111676],\n",
              "         [0.98585963, 0.98585963, 0.9889514 ]],\n",
              "\n",
              "        [[0.9328315 , 0.89797735, 0.86474717],\n",
              "         [0.89826393, 0.85007614, 0.80437684],\n",
              "         [0.91076654, 0.85525656, 0.827861  ],\n",
              "         ...,\n",
              "         [0.9803922 , 0.9809534 , 0.9714267 ],\n",
              "         [0.9803922 , 0.98131424, 0.970705  ],\n",
              "         [0.9803922 , 0.98167515, 0.96998316]],\n",
              "\n",
              "        [[0.9133389 , 0.8701132 , 0.8291609 ],\n",
              "         [0.8827143 , 0.8246225 , 0.766482  ],\n",
              "         [0.9007104 , 0.8415714 , 0.80998904],\n",
              "         ...,\n",
              "         [0.98104846, 0.98365754, 0.9660185 ],\n",
              "         [0.98140943, 0.9832966 , 0.96674025],\n",
              "         [0.9817703 , 0.9829357 , 0.96746206]],\n",
              "\n",
              "        ...,\n",
              "\n",
              "        [[0.41239318, 0.42330125, 0.02451947],\n",
              "         [0.42352945, 0.43850794, 0.01208983],\n",
              "         [0.44706792, 0.46611685, 0.00784314],\n",
              "         ...,\n",
              "         [0.3372549 , 0.3647059 , 0.        ],\n",
              "         [0.3372549 , 0.3647059 , 0.        ],\n",
              "         [0.3372549 , 0.3647059 , 0.        ]],\n",
              "\n",
              "        [[0.40781614, 0.41837215, 0.02170283],\n",
              "         [0.42352945, 0.43815586, 0.01420231],\n",
              "         [0.44460335, 0.4633002 , 0.00784314],\n",
              "         ...,\n",
              "         [0.3372549 , 0.3647059 , 0.        ],\n",
              "         [0.3372549 , 0.3647059 , 0.        ],\n",
              "         [0.3372549 , 0.3647059 , 0.        ]],\n",
              "\n",
              "        [[0.4032391 , 0.41344303, 0.01888619],\n",
              "         [0.42352945, 0.43780378, 0.01631479],\n",
              "         [0.4421388 , 0.46048355, 0.00784314],\n",
              "         ...,\n",
              "         [0.3372549 , 0.3647059 , 0.        ],\n",
              "         [0.3372549 , 0.3647059 , 0.        ],\n",
              "         [0.3372549 , 0.3647059 , 0.        ]]],\n",
              "\n",
              "\n",
              "       ...,\n",
              "\n",
              "\n",
              "       [[[0.09803922, 0.07058824, 0.03921569],\n",
              "         [0.09803922, 0.07058824, 0.03921569],\n",
              "         [0.09803922, 0.07058824, 0.03921569],\n",
              "         ...,\n",
              "         [0.03625679, 0.02057051, 0.00880581],\n",
              "         [0.04452487, 0.0288386 , 0.01707389],\n",
              "         [0.04419176, 0.02850548, 0.01674078]],\n",
              "\n",
              "        [[0.09803922, 0.07058824, 0.03921569],\n",
              "         [0.09803922, 0.07058824, 0.03921569],\n",
              "         [0.09803922, 0.07058824, 0.03921569],\n",
              "         ...,\n",
              "         [0.03623123, 0.02054496, 0.00878025],\n",
              "         [0.04449932, 0.02881304, 0.01704834],\n",
              "         [0.04420454, 0.02851826, 0.01675355]],\n",
              "\n",
              "        [[0.09803922, 0.07058824, 0.03921569],\n",
              "         [0.09803922, 0.07058824, 0.03921569],\n",
              "         [0.09803922, 0.07058824, 0.03921569],\n",
              "         ...,\n",
              "         [0.03620568, 0.0205194 , 0.0087547 ],\n",
              "         [0.04447376, 0.02878749, 0.01702278],\n",
              "         [0.04421731, 0.02853104, 0.01676633]],\n",
              "\n",
              "        ...,\n",
              "\n",
              "        [[0.01960784, 0.01568628, 0.00784314],\n",
              "         [0.01960784, 0.01568628, 0.00784314],\n",
              "         [0.01960784, 0.01568628, 0.00784314],\n",
              "         ...,\n",
              "         [0.03306388, 0.01737761, 0.0056129 ],\n",
              "         [0.04313726, 0.02977974, 0.01646253],\n",
              "         [0.04214853, 0.03822696, 0.01960784]],\n",
              "\n",
              "        [[0.01960784, 0.01568628, 0.00784314],\n",
              "         [0.01960784, 0.01568628, 0.00784314],\n",
              "         [0.01960784, 0.01568628, 0.00784314],\n",
              "         ...,\n",
              "         [0.03302555, 0.01733927, 0.00557457],\n",
              "         [0.04313726, 0.0297414 , 0.01644975],\n",
              "         [0.04216131, 0.03823974, 0.01960784]],\n",
              "\n",
              "        [[0.01960784, 0.01568628, 0.00784314],\n",
              "         [0.01960784, 0.01568628, 0.00784314],\n",
              "         [0.01960784, 0.01568628, 0.00784314],\n",
              "         ...,\n",
              "         [0.03298721, 0.01730094, 0.00553623],\n",
              "         [0.04313726, 0.02970307, 0.01643697],\n",
              "         [0.04217409, 0.03825252, 0.01960784]]],\n",
              "\n",
              "\n",
              "       [[[0.1196351 , 0.03534862, 0.09513892],\n",
              "         [0.11791125, 0.03190093, 0.09255315],\n",
              "         [0.11618741, 0.02845323, 0.08996738],\n",
              "         ...,\n",
              "         [0.49082989, 0.28585374, 0.564022  ],\n",
              "         [0.48072165, 0.29281563, 0.55523145],\n",
              "         [0.47774008, 0.3006431 , 0.5522344 ]],\n",
              "\n",
              "        [[0.12380154, 0.04368149, 0.09580632],\n",
              "         [0.12293962, 0.04195765, 0.09666824],\n",
              "         [0.1220777 , 0.0402338 , 0.09753016],\n",
              "         ...,\n",
              "         [0.47516513, 0.27387673, 0.54401517],\n",
              "         [0.47212654, 0.28674376, 0.5460025 ],\n",
              "         [0.4641805 , 0.28865287, 0.53469837]],\n",
              "\n",
              "        [[0.1285122 , 0.05310285, 0.10620569],\n",
              "         [0.12678836, 0.04965515, 0.09931031],\n",
              "         [0.12527737, 0.04663314, 0.09433049],\n",
              "         ...,\n",
              "         [0.43778223, 0.23659486, 0.49510017],\n",
              "         [0.4345761 , 0.23721564, 0.49565336],\n",
              "         [0.43026212, 0.23767973, 0.48630548]],\n",
              "\n",
              "        ...,\n",
              "\n",
              "        [[0.23759101, 0.27680668, 0.24489258],\n",
              "         [0.2392157 , 0.2784314 , 0.24705884],\n",
              "         [0.24180467, 0.27325344, 0.24446987],\n",
              "         ...,\n",
              "         [0.4359245 , 0.29443282, 0.5029064 ],\n",
              "         [0.44454372, 0.29874244, 0.51583517],\n",
              "         [0.4501074 , 0.3019608 , 0.52396244]],\n",
              "\n",
              "        [[0.2392157 , 0.2784314 , 0.24705884],\n",
              "         [0.2392157 , 0.2784314 , 0.24705884],\n",
              "         [0.24258935, 0.27168408, 0.24368519],\n",
              "         ...,\n",
              "         [0.40000933, 0.27059755, 0.4517765 ],\n",
              "         [0.41254702, 0.2827441 , 0.46784016],\n",
              "         [0.42116627, 0.2870537 , 0.48076898]],\n",
              "\n",
              "        [[0.2392157 , 0.2784314 , 0.24705884],\n",
              "         [0.239848  , 0.27716678, 0.24642654],\n",
              "         [0.24053268, 0.268694  , 0.24100624],\n",
              "         ...,\n",
              "         [0.35102555, 0.22223173, 0.38999406],\n",
              "         [0.36494315, 0.23553135, 0.4073593 ],\n",
              "         [0.37787196, 0.24846019, 0.42373586]]],\n",
              "\n",
              "\n",
              "       [[[0.7420401 , 0.6949813 , 0.6400793 ],\n",
              "         [0.7407474 , 0.6936886 , 0.6387866 ],\n",
              "         [0.7394548 , 0.692396  , 0.63749397],\n",
              "         ...,\n",
              "         [0.621988  , 0.5882353 , 0.43991837],\n",
              "         [0.6239133 , 0.59254074, 0.45136428],\n",
              "         [0.6366881 , 0.6039866 , 0.4667968 ]],\n",
              "\n",
              "        [[0.74509805, 0.69803923, 0.6431373 ],\n",
              "         [0.7444812 , 0.6974224 , 0.6425204 ],\n",
              "         [0.74318856, 0.69612974, 0.6412278 ],\n",
              "         ...,\n",
              "         [0.62071675, 0.5882353 , 0.44373223],\n",
              "         [0.62772715, 0.5963546 , 0.45517814],\n",
              "         [0.6417732 , 0.6078005 , 0.4744245 ]],\n",
              "\n",
              "        [[0.7431461 , 0.6955992 , 0.6397213 ],\n",
              "         [0.74509805, 0.69803923, 0.6431373 ],\n",
              "         [0.74509805, 0.69803923, 0.6431373 ],\n",
              "         ...,\n",
              "         [0.62009513, 0.5887226 , 0.4475461 ],\n",
              "         [0.63159716, 0.60016847, 0.45916045],\n",
              "         [0.64685833, 0.61161435, 0.48205224]],\n",
              "\n",
              "        ...,\n",
              "\n",
              "        [[0.38811466, 0.3841931 , 0.21164405],\n",
              "         [0.38429937, 0.3803778 , 0.20782875],\n",
              "         [0.38048407, 0.3765625 , 0.20401345],\n",
              "         ...,\n",
              "         [0.2552731 , 0.25312674, 0.10410713],\n",
              "         [0.26044366, 0.25571203, 0.10669243],\n",
              "         [0.26561427, 0.25829735, 0.10927773]],\n",
              "\n",
              "        [[0.38684335, 0.3829218 , 0.21037276],\n",
              "         [0.38302806, 0.3791065 , 0.20655747],\n",
              "         [0.3815716 , 0.37765002, 0.205101  ],\n",
              "         ...,\n",
              "         [0.25364104, 0.25364104, 0.10462142],\n",
              "         [0.25234836, 0.25234836, 0.10332876],\n",
              "         [0.25105572, 0.25105572, 0.10203611]],\n",
              "\n",
              "        [[0.38557205, 0.38165048, 0.20910148],\n",
              "         [0.38175675, 0.37783518, 0.20528618],\n",
              "         [0.3828429 , 0.37892133, 0.20637229],\n",
              "         ...,\n",
              "         [0.25737482, 0.25737482, 0.11330089],\n",
              "         [0.25608218, 0.25608218, 0.10942294],\n",
              "         [0.2547895 , 0.2547895 , 0.1057699 ]]]], dtype=float32)"
            ]
          },
          "metadata": {}
        },
        {
          "output_type": "stream",
          "name": "stdout",
          "text": [
            "[[0. 0. 0. 0. 1.]\n",
            " [0. 0. 0. 0. 1.]\n",
            " [0. 0. 0. 1. 0.]\n",
            " [0. 0. 0. 1. 0.]\n",
            " [0. 0. 0. 0. 1.]\n",
            " [0. 0. 0. 1. 0.]\n",
            " [0. 1. 0. 0. 0.]\n",
            " [0. 0. 1. 0. 0.]\n",
            " [0. 0. 1. 0. 0.]\n",
            " [0. 0. 0. 1. 0.]]\n"
          ]
        }
      ],
      "source": [
        "# Display the first 10 images and print out the corresponging labels\n",
        "batch_images, batch_labels = next(train_generator)\n",
        "\n",
        "display(batch_images[:10])\n",
        "print(batch_labels[:10])"
      ]
    },
    {
      "cell_type": "markdown",
      "id": "3815e35c",
      "metadata": {
        "id": "3815e35c"
      },
      "source": [
        "### 3: Building the MLP Model\n",
        "Now you will build the MLP model using Keras' Sequential API."
      ]
    },
    {
      "cell_type": "code",
      "execution_count": 13,
      "id": "f769c496-4369-4064-8404-7f301ce43bbf",
      "metadata": {
        "editable": true,
        "id": "f769c496-4369-4064-8404-7f301ce43bbf",
        "tags": []
      },
      "outputs": [],
      "source": [
        "# import necessary libaries if needed\n",
        "from tensorflow.keras import layers, models\n",
        "\n",
        "# you model below\n",
        "model = models.Sequential([\n",
        "    layers.Input(shape=(150, 150, 3)),\n",
        "    layers.Flatten(),\n",
        "    layers.Dense(200, activation='relu'),\n",
        "    layers.Dense(150, activation='relu'),\n",
        "    layers.Dense(5, activation='softmax')\n",
        "])"
      ]
    },
    {
      "cell_type": "code",
      "execution_count": 14,
      "id": "dddaa04f-d65a-424d-8f1a-4c3e3127a353",
      "metadata": {
        "colab": {
          "base_uri": "https://localhost:8080/"
        },
        "id": "dddaa04f-d65a-424d-8f1a-4c3e3127a353",
        "outputId": "4c0c71df-d2a3-49cd-de4d-1cf64a3ab42d"
      },
      "outputs": [
        {
          "output_type": "stream",
          "name": "stdout",
          "text": [
            "Model: \"sequential\"\n",
            "_________________________________________________________________\n",
            " Layer (type)                Output Shape              Param #   \n",
            "=================================================================\n",
            " flatten (Flatten)           (None, 67500)             0         \n",
            "                                                                 \n",
            " dense (Dense)               (None, 200)               13500200  \n",
            "                                                                 \n",
            " dense_1 (Dense)             (None, 150)               30150     \n",
            "                                                                 \n",
            " dense_2 (Dense)             (None, 5)                 755       \n",
            "                                                                 \n",
            "=================================================================\n",
            "Total params: 13531105 (51.62 MB)\n",
            "Trainable params: 13531105 (51.62 MB)\n",
            "Non-trainable params: 0 (0.00 Byte)\n",
            "_________________________________________________________________\n"
          ]
        }
      ],
      "source": [
        "# your model below\n",
        "model.summary()"
      ]
    },
    {
      "cell_type": "markdown",
      "id": "23c00565-c816-4537-868a-a4c008c9224e",
      "metadata": {
        "id": "23c00565-c816-4537-868a-a4c008c9224e"
      },
      "source": [
        "### 4: Compiling the Model"
      ]
    },
    {
      "cell_type": "code",
      "execution_count": 15,
      "id": "27427e77-dda0-4dbb-a71a-6cd29a1b7f2b",
      "metadata": {
        "id": "27427e77-dda0-4dbb-a71a-6cd29a1b7f2b"
      },
      "outputs": [],
      "source": [
        "# Compile the model\n",
        "model.compile(optimizer='adam',\n",
        "              loss='categorical_crossentropy',\n",
        "              metrics=['accuracy'])"
      ]
    },
    {
      "cell_type": "markdown",
      "id": "11ea698c-a467-4050-9e52-0b9bfd7f7e7a",
      "metadata": {
        "id": "11ea698c-a467-4050-9e52-0b9bfd7f7e7a"
      },
      "source": [
        "### 5: Training the MLP Model"
      ]
    },
    {
      "cell_type": "code",
      "execution_count": 16,
      "id": "a5bdd4ab-d53c-4938-a8c1-ff27177850be",
      "metadata": {
        "id": "a5bdd4ab-d53c-4938-a8c1-ff27177850be"
      },
      "outputs": [],
      "source": [
        "# Do not delete the following line, otherwise you will get the problem when fitting.\n",
        "train_generator.reset()  # This resets the generator to start from the beginning  to clear memory of Generator"
      ]
    },
    {
      "cell_type": "code",
      "execution_count": 17,
      "id": "6dde3cdc-b758-4d64-9b43-f8690f2ef9ea",
      "metadata": {
        "colab": {
          "base_uri": "https://localhost:8080/"
        },
        "id": "6dde3cdc-b758-4d64-9b43-f8690f2ef9ea",
        "outputId": "83ee48d2-8075-4ec0-b5aa-f20363d6f114"
      },
      "outputs": [
        {
          "output_type": "stream",
          "name": "stdout",
          "text": [
            "Epoch 1/30\n",
            "28/28 [==============================] - 28s 986ms/step - loss: 9.1870 - accuracy: 0.2444 - val_loss: 2.6016 - val_accuracy: 0.3098\n",
            "Epoch 2/30\n",
            "28/28 [==============================] - 26s 949ms/step - loss: 2.0911 - accuracy: 0.3392 - val_loss: 2.5767 - val_accuracy: 0.3133\n",
            "Epoch 3/30\n",
            "28/28 [==============================] - 26s 940ms/step - loss: 2.1129 - accuracy: 0.3245 - val_loss: 1.5217 - val_accuracy: 0.4069\n",
            "Epoch 4/30\n",
            "28/28 [==============================] - 26s 934ms/step - loss: 1.7690 - accuracy: 0.3545 - val_loss: 3.7845 - val_accuracy: 0.2347\n",
            "Epoch 5/30\n",
            "28/28 [==============================] - 26s 929ms/step - loss: 2.3832 - accuracy: 0.3161 - val_loss: 1.5478 - val_accuracy: 0.3618\n",
            "Epoch 6/30\n",
            "28/28 [==============================] - 26s 935ms/step - loss: 1.7352 - accuracy: 0.3473 - val_loss: 1.4498 - val_accuracy: 0.4139\n",
            "Epoch 7/30\n",
            "28/28 [==============================] - 26s 938ms/step - loss: 1.9368 - accuracy: 0.3401 - val_loss: 1.4840 - val_accuracy: 0.3665\n",
            "Epoch 8/30\n",
            "28/28 [==============================] - 26s 942ms/step - loss: 1.4439 - accuracy: 0.3809 - val_loss: 1.6622 - val_accuracy: 0.3931\n",
            "Epoch 9/30\n",
            "28/28 [==============================] - 26s 927ms/step - loss: 1.4995 - accuracy: 0.3826 - val_loss: 1.3107 - val_accuracy: 0.4462\n",
            "Epoch 10/30\n",
            "28/28 [==============================] - 26s 933ms/step - loss: 1.4943 - accuracy: 0.3687 - val_loss: 1.3679 - val_accuracy: 0.4162\n",
            "Epoch 11/30\n",
            "28/28 [==============================] - 26s 942ms/step - loss: 1.4316 - accuracy: 0.3924 - val_loss: 1.2818 - val_accuracy: 0.4312\n",
            "Epoch 12/30\n",
            "28/28 [==============================] - 26s 949ms/step - loss: 1.3811 - accuracy: 0.3991 - val_loss: 1.3021 - val_accuracy: 0.4324\n",
            "Epoch 13/30\n",
            "28/28 [==============================] - 26s 927ms/step - loss: 1.3575 - accuracy: 0.4083 - val_loss: 1.3535 - val_accuracy: 0.4023\n",
            "Epoch 14/30\n",
            "28/28 [==============================] - 26s 923ms/step - loss: 1.3814 - accuracy: 0.4014 - val_loss: 1.3878 - val_accuracy: 0.4208\n",
            "Epoch 15/30\n",
            "28/28 [==============================] - 26s 916ms/step - loss: 1.3581 - accuracy: 0.4115 - val_loss: 1.2178 - val_accuracy: 0.4532\n",
            "Epoch 16/30\n",
            "28/28 [==============================] - 26s 919ms/step - loss: 1.3782 - accuracy: 0.4121 - val_loss: 1.2362 - val_accuracy: 0.4717\n",
            "Epoch 17/30\n",
            "28/28 [==============================] - 26s 917ms/step - loss: 1.3098 - accuracy: 0.4312 - val_loss: 1.3185 - val_accuracy: 0.4150\n",
            "Epoch 18/30\n",
            "28/28 [==============================] - 26s 914ms/step - loss: 1.3451 - accuracy: 0.4164 - val_loss: 1.2555 - val_accuracy: 0.4301\n",
            "Epoch 19/30\n",
            "28/28 [==============================] - 26s 923ms/step - loss: 1.3438 - accuracy: 0.4127 - val_loss: 1.2449 - val_accuracy: 0.4532\n",
            "Epoch 20/30\n",
            "28/28 [==============================] - 26s 922ms/step - loss: 1.3913 - accuracy: 0.3965 - val_loss: 1.2212 - val_accuracy: 0.4647\n",
            "Epoch 21/30\n",
            "28/28 [==============================] - 26s 916ms/step - loss: 1.3094 - accuracy: 0.4375 - val_loss: 1.2426 - val_accuracy: 0.4566\n",
            "Epoch 22/30\n",
            "28/28 [==============================] - 26s 918ms/step - loss: 1.4252 - accuracy: 0.3944 - val_loss: 1.2311 - val_accuracy: 0.4416\n",
            "Epoch 23/30\n",
            "28/28 [==============================] - 26s 921ms/step - loss: 1.3785 - accuracy: 0.4164 - val_loss: 1.2249 - val_accuracy: 0.4809\n",
            "Epoch 24/30\n",
            "28/28 [==============================] - 26s 923ms/step - loss: 1.3286 - accuracy: 0.4069 - val_loss: 1.2577 - val_accuracy: 0.4647\n",
            "Epoch 25/30\n",
            "28/28 [==============================] - 26s 936ms/step - loss: 1.2979 - accuracy: 0.4158 - val_loss: 1.2027 - val_accuracy: 0.4728\n",
            "Epoch 26/30\n",
            "28/28 [==============================] - 26s 922ms/step - loss: 1.3571 - accuracy: 0.4213 - val_loss: 1.3633 - val_accuracy: 0.4347\n",
            "Epoch 27/30\n",
            "28/28 [==============================] - 26s 924ms/step - loss: 1.3766 - accuracy: 0.4078 - val_loss: 1.2346 - val_accuracy: 0.4775\n",
            "Epoch 28/30\n",
            "28/28 [==============================] - 26s 921ms/step - loss: 1.3309 - accuracy: 0.4196 - val_loss: 1.3291 - val_accuracy: 0.4277\n",
            "Epoch 29/30\n",
            "28/28 [==============================] - 26s 923ms/step - loss: 1.4700 - accuracy: 0.3757 - val_loss: 1.2628 - val_accuracy: 0.4520\n",
            "Epoch 30/30\n",
            "28/28 [==============================] - 25s 912ms/step - loss: 1.3606 - accuracy: 0.4023 - val_loss: 1.2504 - val_accuracy: 0.4347\n"
          ]
        }
      ],
      "source": [
        "# Train the model\n",
        "history = model.fit(train_generator, epochs=30, validation_data=valid_generator)"
      ]
    },
    {
      "cell_type": "code",
      "execution_count": 18,
      "id": "555428cb-5d80-42dd-9cde-5118762ddb31",
      "metadata": {
        "colab": {
          "base_uri": "https://localhost:8080/"
        },
        "id": "555428cb-5d80-42dd-9cde-5118762ddb31",
        "outputId": "33d07068-2f8a-464a-be2e-d035f266a827"
      },
      "outputs": [
        {
          "output_type": "stream",
          "name": "stdout",
          "text": [
            "[0.24436090886592865, 0.33921343088150024]\n",
            "[0.3098265826702118, 0.31329479813575745]\n",
            "[9.18701171875, 2.0910956859588623]\n",
            "[2.601642608642578, 2.5767440795898438]\n"
          ]
        }
      ],
      "source": [
        "# extract information\n",
        "print(history.history['accuracy'][:2]) # train accuracy on the first two epochs\n",
        "print(history.history['val_accuracy'][:2]) # validation accuracy on the first two epochs\n",
        "print(history.history['loss'][:2]) # train loss on the first two epochs\n",
        "print(history.history['val_loss'][:2]) # validation loss on the first two epochs"
      ]
    },
    {
      "cell_type": "markdown",
      "id": "920a420b-b08d-4287-aa51-4950cb018ddd",
      "metadata": {
        "id": "920a420b-b08d-4287-aa51-4950cb018ddd"
      },
      "source": [
        "#### Plot train/valiation loss and accuracy\n"
      ]
    },
    {
      "cell_type": "code",
      "execution_count": 19,
      "id": "f415681c-02f7-4862-9c48-0169c392d160",
      "metadata": {
        "colab": {
          "base_uri": "https://localhost:8080/",
          "height": 581
        },
        "editable": true,
        "id": "f415681c-02f7-4862-9c48-0169c392d160",
        "outputId": "47989227-6dbb-4e5a-e7db-beabc9ea59ee",
        "tags": []
      },
      "outputs": [
        {
          "output_type": "execute_result",
          "data": {
            "text/plain": [
              "<matplotlib.legend.Legend at 0x7e7758305840>"
            ]
          },
          "metadata": {},
          "execution_count": 19
        },
        {
          "output_type": "display_data",
          "data": {
            "text/plain": [
              "<Figure size 1200x600 with 1 Axes>"
            ],
            "image/png": "[encoded data removed]"
          },
          "metadata": {}
        }
      ],
      "source": [
        "import matplotlib.pyplot as plt\n",
        "\n",
        "# Plot the training and validation loss\n",
        "plt.figure(figsize=(12, 6))\n",
        "\n",
        "# Plot training loss\n",
        "plt.plot(history.history['loss'], label='Train Loss')\n",
        "plt.plot(history.history['val_loss'], label='Validation Loss')\n",
        "plt.axis('on')\n",
        "plt.xlabel('Epochs')\n",
        "plt.ylabel('Loss')\n",
        "plt.title('Training and Validation Loss')\n",
        "plt.legend()"
      ]
    },
    {
      "cell_type": "code",
      "execution_count": 20,
      "id": "c8d8c205-b464-46d0-bf8a-0a77f271e40d",
      "metadata": {
        "colab": {
          "base_uri": "https://localhost:8080/",
          "height": 472
        },
        "id": "c8d8c205-b464-46d0-bf8a-0a77f271e40d",
        "outputId": "806ffb45-0e8c-4139-b630-d64e38e07815"
      },
      "outputs": [
        {
          "output_type": "display_data",
          "data": {
            "text/plain": [
              "<Figure size 640x480 with 1 Axes>"
            ],
            "image/png": "[encoded data removed]"
          },
          "metadata": {}
        }
      ],
      "source": [
        "# Plot the training and validation loss\n",
        "plt.plot(history.history['accuracy'], label='Train Accuracy')\n",
        "plt.plot(history.history['val_accuracy'], label='Validation Accuracy')\n",
        "plt.axis('on')\n",
        "plt.xlabel('Epochs')\n",
        "plt.ylabel('Accuracy')\n",
        "plt.title('Training and Validation Accuracy')\n",
        "plt.legend()\n",
        "plt.show()"
      ]
    }
  ],
  "metadata": {
    "accelerator": "TPU",
    "colab": {
      "gpuType": "V5E1",
      "provenance": [],
      "machine_shape": "hm"
    },
    "kernelspec": {
      "display_name": "Python 3",
      "name": "python3"
    },
    "language_info": {
      "codemirror_mode": {
        "name": "ipython",
        "version": 3
      },
      "file_extension": ".py",
      "mimetype": "text/x-python",
      "name": "python",
      "nbconvert_exporter": "python",
      "pygments_lexer": "ipython3",
      "version": "3.11.8"
    }
  },
  "nbformat": 4,
  "nbformat_minor": 5
}